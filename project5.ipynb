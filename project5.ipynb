{
 "cells": [
  {
   "cell_type": "markdown",
   "metadata": {
    "colab": {
     "base_uri": "https://localhost:8080/"
    },
    "executionInfo": {
     "elapsed": 1265,
     "status": "ok",
     "timestamp": 1709313654363,
     "user": {
      "displayName": "lh w",
      "userId": "16530091797169292895"
     },
     "user_tz": 420
    },
    "id": "ectZNjLEYJs1",
    "outputId": "78d85f85-6569-4ef1-9c43-541c7e3d8763"
   },
   "source": [
    "## Stress Patterns on Reddit"
   ]
  },
  {
   "cell_type": "code",
   "execution_count": null,
   "metadata": {
    "colab": {
     "base_uri": "https://localhost:8080/",
     "height": 1000
    },
    "executionInfo": {
     "elapsed": 311086,
     "status": "ok",
     "timestamp": 1709313965447,
     "user": {
      "displayName": "lh w",
      "userId": "16530091797169292895"
     },
     "user_tz": 420
    },
    "id": "RkFzhytHX-xP",
    "outputId": "28714b02-6231-4b97-ea6e-484d8a20a503"
   },
   "outputs": [],
   "source": [
    "import pandas as pd\n",
    "import numpy as np\n",
    "import re\n",
    "from sklearn.model_selection import train_test_split, RandomizedSearchCV\n",
    "from sklearn.feature_extraction.text import TfidfVectorizer, CountVectorizer\n",
    "from sklearn.naive_bayes import MultinomialNB\n",
    "from sklearn.metrics import classification_report, accuracy_score\n",
    "from sklearn.pipeline import Pipeline, FeatureUnion\n",
    "from sklearn.base import BaseEstimator, TransformerMixin\n",
    "from sklearn.preprocessing import FunctionTransformer\n",
    "from nltk.stem import WordNetLemmatizer\n",
    "from nltk.corpus import stopwords\n",
    "from nltk import download\n",
    "from nltk.tokenize import word_tokenize\n",
    "import matplotlib.pyplot as plt\n",
    "from sklearn.metrics import confusion_matrix, roc_curve, auc\n",
    "import seaborn as sns\n",
    "\n",
    "# Download NLTK resources\n",
    "download('punkt')\n",
    "download('stopwords')\n",
    "download('wordnet')\n",
    "\n",
    "\n",
    "# More complex text preprocessing function\n",
    "def preprocess_text(text):\n",
    "    # Remove special characters\n",
    "    text = re.sub(r'\\W+', ' ', text)\n",
    "    # Tokenization and lemmatization\n",
    "    lemmatizer = WordNetLemmatizer()\n",
    "    words = word_tokenize(text.lower())\n",
    "    lemmatized_words = [lemmatizer.lemmatize(word) for word in words if word not in stopwords.words('english')]\n",
    "    return ' '.join(lemmatized_words)\n",
    "\n",
    "\n",
    "# Text length extractor\n",
    "class TextLengthExtractor(BaseEstimator, TransformerMixin):\n",
    "    def fit(self, X, y=None):\n",
    "        return self\n",
    "\n",
    "    def transform(self, X):\n",
    "        return np.array([len(text) for text in X]).reshape(-1, 1)\n",
    "\n",
    "\n",
    "# Load data\n",
    "file_path = './Stress.csv'\n",
    "data = pd.read_csv(file_path)\n",
    "\n",
    "# Apply preprocessing to the text in the dataset\n",
    "data['text'] = data['text'].apply(preprocess_text)\n",
    "\n",
    "# Create pipeline for feature extraction and classification\n",
    "pipeline = Pipeline([\n",
    "    ('features', FeatureUnion([\n",
    "        ('tfidf', TfidfVectorizer()),\n",
    "        ('count', CountVectorizer()),\n",
    "        ('length', TextLengthExtractor())\n",
    "    ])),\n",
    "    ('nb', MultinomialNB())\n",
    "])\n",
    "\n",
    "# Define parameter space for random search\n",
    "param_distributions = {\n",
    "    'features__tfidf__max_df': [0.5, 0.75],\n",
    "    'features__tfidf__min_df': [1, 2],\n",
    "    'features__tfidf__ngram_range': [(1, 1), (1, 2)],\n",
    "    'features__count__max_df': [0.5, 0.75],\n",
    "    'features__count__min_df': [1, 2],\n",
    "    'features__count__ngram_range': [(1, 1), (1, 2)],\n",
    "    'nb__alpha': [0.001, 0.01, 0.1]\n",
    "}\n",
    "\n",
    "# Split dataset into training and testing sets\n",
    "X_train, X_test, y_train, y_test = train_test_split(data['text'], data['label'], test_size=0.1, random_state=42)\n",
    "\n",
    "# Set up random search\n",
    "random_search = RandomizedSearchCV(pipeline, param_distributions, n_iter=50, cv=10, n_jobs=-1, verbose=1)\n",
    "\n",
    "# Perform random search to find the best parameters\n",
    "random_search.fit(X_train, y_train)\n",
    "\n",
    "# Print best parameters and scores\n",
    "print(\"Best Parameters:\", random_search.best_params_)\n",
    "print(\"Best Score:\", random_search.best_score_)\n",
    "\n",
    "# Use the best parameters for prediction\n",
    "y_pred = random_search.predict(X_test)\n",
    "accuracy = accuracy_score(y_test, y_pred)\n",
    "report = classification_report(y_test, y_pred)\n",
    "\n",
    "# Print model evaluation results\n",
    "print(f'Accuracy: {accuracy}')\n",
    "print(f'Classification Report:\\n{report}')\n",
    "\n",
    "# Confusion Matrix\n",
    "cm = confusion_matrix(y_test, y_pred)\n",
    "sns.heatmap(cm, annot=True, fmt='d', cmap='Blues')\n",
    "plt.title('Confusion Matrix')\n",
    "plt.xlabel('Predicted Labels')\n",
    "plt.ylabel('True Labels')\n",
    "plt.show()\n",
    "\n",
    "# ROC\n",
    "if len(np.unique(y_test)) == 2:\n",
    "    y_prob = random_search.predict_proba(X_test)[:, 1]\n",
    "    fpr, tpr, thresholds = roc_curve(y_test, y_prob)\n",
    "    roc_auc = auc(fpr, tpr)\n",
    "\n",
    "    plt.figure()\n",
    "    plt.plot(fpr, tpr, color='darkorange', lw=2, label='ROC curve (area = %0.2f)' % roc_auc)\n",
    "    plt.plot([0, 1], [0, 1], color='navy', lw=2, linestyle='--')\n",
    "    plt.xlim([0.0, 1.0])\n",
    "    plt.ylim([0.0, 1.05])\n",
    "    plt.xlabel('False Positive Rate')\n",
    "    plt.ylabel('True Positive Rate')\n",
    "    plt.title('Receiver Operating Characteristic')\n",
    "    plt.legend(loc=\"lower right\")\n",
    "    plt.show()\n"
   ]
  },
  {
   "cell_type": "markdown",
   "metadata": {},
   "source": [
    "We received a balanced accuracy of 0.75, showing the model is reobust to new data. The precision and recall metrics show the model's consistent performance across different categories. The AUC of 0.81 reflects a strong capability to distinguish between stress-related and unrelated posts. "
   ]
  }
 ],
 "metadata": {
  "colab": {
   "authorship_tag": "ABX9TyNwVtijClEbaz/ngY54u9eM",
   "provenance": []
  },
  "kernelspec": {
   "display_name": "Python 3 (ipykernel)",
   "language": "python",
   "name": "python3"
  },
  "language_info": {
   "codemirror_mode": {
    "name": "ipython",
    "version": 3
   },
   "file_extension": ".py",
   "mimetype": "text/x-python",
   "name": "python",
   "nbconvert_exporter": "python",
   "pygments_lexer": "ipython3",
   "version": "3.10.6"
  }
 },
 "nbformat": 4,
 "nbformat_minor": 4
}
